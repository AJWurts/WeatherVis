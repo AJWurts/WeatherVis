{
 "cells": [
  {
   "cell_type": "code",
   "execution_count": 1,
   "metadata": {},
   "outputs": [
    {
     "name": "stderr",
     "output_type": "stream",
     "text": [
      "/Library/Frameworks/Python.framework/Versions/3.7/lib/python3.7/site-packages/IPython/core/interactiveshell.py:3020: DtypeWarning: Columns (15) have mixed types. Specify dtype option on import or set low_memory=False.\n",
      "  interactivity=interactivity, compiler=compiler, result=result)\n"
     ]
    }
   ],
   "source": [
    "import pandas as pd\n",
    "import numpy as np\n",
    "\n",
    "metars = pd.read_csv(\"BED.txt\")"
   ]
  },
  {
   "cell_type": "code",
   "execution_count": 2,
   "metadata": {},
   "outputs": [],
   "source": [
    "from date import Date\n",
    "\n",
    "## Parsing\n",
    "metars['date'] = metars['valid'].map(Date)"
   ]
  },
  {
   "cell_type": "code",
   "execution_count": 4,
   "metadata": {},
   "outputs": [],
   "source": [
    "metars['year'] = metars.date.apply(lambda x: x.year)"
   ]
  },
  {
   "cell_type": "code",
   "execution_count": 5,
   "metadata": {},
   "outputs": [],
   "source": [
    "y2018 = metars[metars.year == 2018]"
   ]
  },
  {
   "cell_type": "code",
   "execution_count": 6,
   "metadata": {},
   "outputs": [
    {
     "data": {
      "text/plain": [
       "113809"
      ]
     },
     "execution_count": 6,
     "metadata": {},
     "output_type": "execute_result"
    }
   ],
   "source": [
    "len(y2018)"
   ]
  },
  {
   "cell_type": "code",
   "execution_count": 16,
   "metadata": {},
   "outputs": [
    {
     "name": "stderr",
     "output_type": "stream",
     "text": [
      "/Library/Frameworks/Python.framework/Versions/3.7/lib/python3.7/site-packages/ipykernel_launcher.py:2: FutureWarning: The signature of `Series.to_csv` was aligned to that of `DataFrame.to_csv`, and argument 'header' will change its default value from False to True: please pass an explicit value to suppress this warning.\n",
      "  \n"
     ]
    }
   ],
   "source": [
    "wind_dir = y2018.drct[y2018.sknt >= 1].value_counts()\n",
    "wind_dir.to_csv(\"2018_wind_dir.csv\")"
   ]
  },
  {
   "cell_type": "code",
   "execution_count": 17,
   "metadata": {},
   "outputs": [
    {
     "data": {
      "text/plain": [
       "210.0    5107\n",
       "220.0    4870\n",
       "230.0    4161\n",
       "280.0    4046\n",
       "240.0    4041\n",
       "200.0    3992\n",
       "270.0    3908\n",
       "250.0    3699\n",
       "290.0    3698\n",
       "260.0    3666\n",
       "300.0    3448\n",
       "310.0    3368\n",
       "320.0    3098\n",
       "330.0    2860\n",
       "190.0    2679\n",
       "180.0    2329\n",
       "50.0     2286\n",
       "340.0    2212\n",
       "40.0     2068\n",
       "60.0     2057\n",
       "30.0     1980\n",
       "350.0    1938\n",
       "360.0    1928\n",
       "170.0    1823\n",
       "70.0     1779\n",
       "20.0     1763\n",
       "10.0     1677\n",
       "80.0     1662\n",
       "90.0     1575\n",
       "100.0    1486\n",
       "110.0    1269\n",
       "120.0    1149\n",
       "160.0    1125\n",
       "150.0     988\n",
       "130.0     901\n",
       "140.0     807\n",
       "Name: drct, dtype: int64"
      ]
     },
     "execution_count": 17,
     "metadata": {},
     "output_type": "execute_result"
    }
   ],
   "source": [
    "wind_dir"
   ]
  },
  {
   "cell_type": "code",
   "execution_count": null,
   "metadata": {},
   "outputs": [],
   "source": []
  }
 ],
 "metadata": {
  "kernelspec": {
   "display_name": "Python 3",
   "language": "python",
   "name": "python3"
  },
  "language_info": {
   "codemirror_mode": {
    "name": "ipython",
    "version": 3
   },
   "file_extension": ".py",
   "mimetype": "text/x-python",
   "name": "python",
   "nbconvert_exporter": "python",
   "pygments_lexer": "ipython3",
   "version": "3.7.2"
  }
 },
 "nbformat": 4,
 "nbformat_minor": 2
}
