{
 "cells": [
  {
   "cell_type": "code",
   "execution_count": 1,
   "metadata": {},
   "outputs": [
    {
     "name": "stderr",
     "output_type": "stream",
     "text": [
      "/Library/Frameworks/Python.framework/Versions/3.7/lib/python3.7/site-packages/IPython/core/interactiveshell.py:3020: DtypeWarning: Columns (15) have mixed types. Specify dtype option on import or set low_memory=False.\n",
      "  interactivity=interactivity, compiler=compiler, result=result)\n"
     ]
    }
   ],
   "source": [
    "import pandas as pd\n",
    "import numpy as np\n",
    "\n",
    "metars = pd.read_csv(\"BED.txt\")"
   ]
  },
  {
   "cell_type": "code",
   "execution_count": 18,
   "metadata": {},
   "outputs": [],
   "source": [
    "from date import Date\n",
    "\n",
    "## Parsing\n",
    "# metars['date'] = metars['valid'].map(Date)"
   ]
  },
  {
   "cell_type": "code",
   "execution_count": 19,
   "metadata": {},
   "outputs": [
    {
     "data": {
      "text/plain": [
       "0           2009 0 1 0\n",
       "1           2009 0 1 0\n",
       "2           2009 0 1 0\n",
       "3           2009 0 1 0\n",
       "4           2009 0 1 0\n",
       "5           2009 0 1 0\n",
       "6           2009 0 1 0\n",
       "7           2009 0 1 0\n",
       "8           2009 0 1 0\n",
       "9           2009 0 1 0\n",
       "10          2009 0 1 0\n",
       "11          2009 0 1 0\n",
       "12          2009 0 1 0\n",
       "13          2009 0 1 0\n",
       "14          2009 0 1 0\n",
       "15          2009 0 1 0\n",
       "16          2009 0 1 0\n",
       "17          2009 0 1 0\n",
       "18          2009 0 1 0\n",
       "19          2009 0 1 0\n",
       "20          2009 0 1 0\n",
       "21          2009 0 1 0\n",
       "22          2009 0 2 0\n",
       "23          2009 0 2 0\n",
       "24          2009 0 2 0\n",
       "25          2009 0 2 0\n",
       "26          2009 0 2 0\n",
       "27          2009 0 2 0\n",
       "28          2009 0 2 0\n",
       "29          2009 0 2 0\n",
       "              ...     \n",
       "370452    2019 2 30 12\n",
       "370453    2019 2 30 12\n",
       "370454    2019 2 30 12\n",
       "370455    2019 2 30 12\n",
       "370456    2019 2 30 12\n",
       "370457    2019 2 30 12\n",
       "370458    2019 2 30 12\n",
       "370459    2019 2 30 12\n",
       "370460    2019 2 30 12\n",
       "370461    2019 2 30 12\n",
       "370462    2019 2 30 12\n",
       "370463    2019 2 30 12\n",
       "370464    2019 2 30 12\n",
       "370465    2019 2 30 12\n",
       "370466    2019 2 30 12\n",
       "370467    2019 2 30 12\n",
       "370468    2019 2 30 12\n",
       "370469    2019 2 30 12\n",
       "370470    2019 2 30 12\n",
       "370471    2019 2 30 12\n",
       "370472    2019 2 30 12\n",
       "370473    2019 2 30 12\n",
       "370474    2019 2 30 12\n",
       "370475    2019 2 30 12\n",
       "370476    2019 2 30 12\n",
       "370477    2019 2 30 12\n",
       "370478    2019 2 30 12\n",
       "370479    2019 2 30 12\n",
       "370480    2019 2 30 12\n",
       "370481    2019 2 30 12\n",
       "Name: date, Length: 370482, dtype: object"
      ]
     },
     "execution_count": 19,
     "metadata": {},
     "output_type": "execute_result"
    }
   ],
   "source": [
    "metars['date']"
   ]
  },
  {
   "cell_type": "code",
   "execution_count": null,
   "metadata": {},
   "outputs": [],
   "source": []
  },
  {
   "cell_type": "code",
   "execution_count": null,
   "metadata": {},
   "outputs": [],
   "source": []
  }
 ],
 "metadata": {
  "kernelspec": {
   "display_name": "Python 3",
   "language": "python",
   "name": "python3"
  },
  "language_info": {
   "codemirror_mode": {
    "name": "ipython",
    "version": 3
   },
   "file_extension": ".py",
   "mimetype": "text/x-python",
   "name": "python",
   "nbconvert_exporter": "python",
   "pygments_lexer": "ipython3",
   "version": "3.7.2"
  }
 },
 "nbformat": 4,
 "nbformat_minor": 2
}
