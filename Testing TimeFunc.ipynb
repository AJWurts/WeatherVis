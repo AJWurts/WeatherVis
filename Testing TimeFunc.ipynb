{
 "cells": [
  {
   "cell_type": "code",
   "execution_count": 9,
   "metadata": {},
   "outputs": [],
   "source": [
    "#     let startHour = +start;\n",
    "#     let endHour = 24 + end;\n",
    "\n",
    "#     let fun = (time) => {\n",
    "#         if (+time < startHour) {\n",
    "#             return 24 - startHour + time;\n",
    "#         } else if (+time >= startHour) {\n",
    "#             return +time;\n",
    "#         }\n",
    "#     }\n",
    "\n",
    "start = 18\n",
    "end = start + 24\n",
    "\n",
    "def fun(time):\n",
    "    if (time < start):\n",
    "        return (24 - start) + time\n",
    "    elif time >= start:\n",
    "        return time - start\n",
    "    "
   ]
  },
  {
   "cell_type": "code",
   "execution_count": 14,
   "metadata": {},
   "outputs": [
    {
     "name": "stdout",
     "output_type": "stream",
     "text": [
      "0 6\n",
      "1 7\n"
     ]
    }
   ],
   "source": [
    "# for i in range(2):\n",
    "#     print(i, fun(i))"
   ]
  },
  {
   "cell_type": "code",
   "execution_count": null,
   "metadata": {},
   "outputs": [],
   "source": []
  },
  {
   "cell_type": "code",
   "execution_count": null,
   "metadata": {},
   "outputs": [],
   "source": []
  }
 ],
 "metadata": {
  "kernelspec": {
   "display_name": "Python 3",
   "language": "python",
   "name": "python3"
  },
  "language_info": {
   "codemirror_mode": {
    "name": "ipython",
    "version": 3
   },
   "file_extension": ".py",
   "mimetype": "text/x-python",
   "name": "python",
   "nbconvert_exporter": "python",
   "pygments_lexer": "ipython3",
   "version": "3.7.3"
  }
 },
 "nbformat": 4,
 "nbformat_minor": 2
}
